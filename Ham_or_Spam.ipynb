{
 "cells": [
  {
   "cell_type": "markdown",
   "id": "64a8255a-0d79-4731-b3f6-eac61a4d3c79",
   "metadata": {},
   "source": [
    "First, install and import necessary libraries:"
   ]
  },
  {
   "cell_type": "code",
   "execution_count": 1,
   "id": "4e0f9348-145a-44c5-ae12-4df0d9fcaeb5",
   "metadata": {
    "tags": []
   },
   "outputs": [],
   "source": [
    "import pandas as pd\n",
    "import matplotlib.pyplot as plt\n",
    "import seaborn as sns\n",
    "import re\n",
    "\n",
    "from nltk.corpus import stopwords\n",
    "from nltk.tokenize import word_tokenize\n",
    "from sklearn.feature_extraction.text import CountVectorizer\n",
    "from sklearn.model_selection import train_test_split\n",
    "from sklearn.preprocessing import LabelEncoder, Normalizer\n",
    "from sklearn.naive_bayes import MultinomialNB\n",
    "from sklearn.metrics import confusion_matrix, accuracy_score"
   ]
  },
  {
   "cell_type": "markdown",
   "id": "055acde2-1aa7-40d8-885a-ced0ceee29d2",
   "metadata": {},
   "source": [
    "Then, we check the first few lines of the dataset to understand the structure of the dataset (i.e.: rows and columns, labelled or not, how many features, etc.)"
   ]
  },
  {
   "cell_type": "code",
   "execution_count": 2,
   "id": "02ae9718-f662-4c16-8294-6af6d6ae0c64",
   "metadata": {
    "tags": []
   },
   "outputs": [
    {
     "data": {
      "text/html": [
       "<div>\n",
       "<style scoped>\n",
       "    .dataframe tbody tr th:only-of-type {\n",
       "        vertical-align: middle;\n",
       "    }\n",
       "\n",
       "    .dataframe tbody tr th {\n",
       "        vertical-align: top;\n",
       "    }\n",
       "\n",
       "    .dataframe thead th {\n",
       "        text-align: right;\n",
       "    }\n",
       "</style>\n",
       "<table border=\"1\" class=\"dataframe\">\n",
       "  <thead>\n",
       "    <tr style=\"text-align: right;\">\n",
       "      <th></th>\n",
       "      <th>v1</th>\n",
       "      <th>v2</th>\n",
       "      <th>Unnamed: 2</th>\n",
       "      <th>Unnamed: 3</th>\n",
       "      <th>Unnamed: 4</th>\n",
       "    </tr>\n",
       "  </thead>\n",
       "  <tbody>\n",
       "    <tr>\n",
       "      <th>0</th>\n",
       "      <td>ham</td>\n",
       "      <td>Go until jurong point, crazy.. Available only ...</td>\n",
       "      <td>NaN</td>\n",
       "      <td>NaN</td>\n",
       "      <td>NaN</td>\n",
       "    </tr>\n",
       "    <tr>\n",
       "      <th>1</th>\n",
       "      <td>ham</td>\n",
       "      <td>Ok lar... Joking wif u oni...</td>\n",
       "      <td>NaN</td>\n",
       "      <td>NaN</td>\n",
       "      <td>NaN</td>\n",
       "    </tr>\n",
       "    <tr>\n",
       "      <th>2</th>\n",
       "      <td>spam</td>\n",
       "      <td>Free entry in 2 a wkly comp to win FA Cup fina...</td>\n",
       "      <td>NaN</td>\n",
       "      <td>NaN</td>\n",
       "      <td>NaN</td>\n",
       "    </tr>\n",
       "    <tr>\n",
       "      <th>3</th>\n",
       "      <td>ham</td>\n",
       "      <td>U dun say so early hor... U c already then say...</td>\n",
       "      <td>NaN</td>\n",
       "      <td>NaN</td>\n",
       "      <td>NaN</td>\n",
       "    </tr>\n",
       "    <tr>\n",
       "      <th>4</th>\n",
       "      <td>ham</td>\n",
       "      <td>Nah I don't think he goes to usf, he lives aro...</td>\n",
       "      <td>NaN</td>\n",
       "      <td>NaN</td>\n",
       "      <td>NaN</td>\n",
       "    </tr>\n",
       "  </tbody>\n",
       "</table>\n",
       "</div>"
      ],
      "text/plain": [
       "     v1                                                 v2 Unnamed: 2  \\\n",
       "0   ham  Go until jurong point, crazy.. Available only ...        NaN   \n",
       "1   ham                      Ok lar... Joking wif u oni...        NaN   \n",
       "2  spam  Free entry in 2 a wkly comp to win FA Cup fina...        NaN   \n",
       "3   ham  U dun say so early hor... U c already then say...        NaN   \n",
       "4   ham  Nah I don't think he goes to usf, he lives aro...        NaN   \n",
       "\n",
       "  Unnamed: 3 Unnamed: 4  \n",
       "0        NaN        NaN  \n",
       "1        NaN        NaN  \n",
       "2        NaN        NaN  \n",
       "3        NaN        NaN  \n",
       "4        NaN        NaN  "
      ]
     },
     "execution_count": 2,
     "metadata": {},
     "output_type": "execute_result"
    }
   ],
   "source": [
    "# URL to SMS Spam Collection Dataset on Kaggle\n",
    "data_filepath = '/Users/.../SMS Classifier/spam.csv'\n",
    "\n",
    "# Read the CSV file with the correct encoding specified\n",
    "sms_data = pd.read_csv(data_filepath, encoding='ISO-8859-1')\n",
    "\n",
    "# Display the first few rows of the DataFrame\n",
    "sms_data.head()"
   ]
  },
  {
   "cell_type": "markdown",
   "id": "c6f7a9f1-9856-40a7-ba00-9c6f565625af",
   "metadata": {},
   "source": [
    "After reviewing below the shape of the dataset and the count of the missing values in the last 3 columns, I opted to drop those columns as:\n",
    "- there were too many missing values in each of the 3 columns\n",
    "- after checking the 'notnull' content, I found those columns to be irrelevant for the purpose of this project"
   ]
  },
  {
   "cell_type": "code",
   "execution_count": 3,
   "id": "f904d17c-6dbc-4b6c-9789-32f53fe1a786",
   "metadata": {
    "tags": []
   },
   "outputs": [
    {
     "name": "stdout",
     "output_type": "stream",
     "text": [
      "(5572, 5)\n",
      "v1               0\n",
      "v2               0\n",
      "Unnamed: 2    5522\n",
      "Unnamed: 3    5560\n",
      "Unnamed: 4    5566\n",
      "dtype: int64\n"
     ]
    }
   ],
   "source": [
    "# Check the shape (rows and columns) of the dataset\n",
    "print(sms_data.shape)\n",
    "\n",
    "# Count the number of missing values in each column\n",
    "missing_values_count = sms_data.isnull().sum()\n",
    "\n",
    "# Display the result\n",
    "print(missing_values_count)\n",
    "\n",
    "# Create boolean masks for non-missing values in each column\n",
    "mask_col2 = sms_data['Unnamed: 2'].notnull()\n",
    "mask_col3 = sms_data['Unnamed: 3'].notnull()\n",
    "mask_col4 = sms_data['Unnamed: 4'].notnull()\n",
    "\n",
    "# Use the boolean masks to filter the DataFrame and extract rows with non-missing values\n",
    "non_missing_values_col2 = sms_data[mask_col2]\n",
    "non_missing_values_col3 = sms_data[mask_col3]\n",
    "non_missing_values_col4 = sms_data[mask_col4]\n",
    "\n",
    "# Drop the columns with too many missing values\n",
    "sms_data.drop(columns=['Unnamed: 2', 'Unnamed: 3', 'Unnamed: 4'], inplace=True)"
   ]
  },
  {
   "cell_type": "markdown",
   "id": "d3af5976-b374-4bff-805c-18d7995dc5d8",
   "metadata": {
    "tags": []
   },
   "source": [
    "After dropping the last 3 columns, I labelled the analytically relevant columns:\n",
    "- first column(v1) changed to 'label' -- signifying the 'ham' or 'spam' labels\n",
    "- second column(v2) changed to 'text' -- signifying sms or text messages\n",
    "- changed the categorical data into numeric data in the 'label' column: '0' for ham, '1' for spam"
   ]
  },
  {
   "cell_type": "code",
   "execution_count": 4,
   "id": "7312f482-ad31-4291-85ce-49941385712e",
   "metadata": {
    "tags": []
   },
   "outputs": [
    {
     "data": {
      "text/html": [
       "<div>\n",
       "<style scoped>\n",
       "    .dataframe tbody tr th:only-of-type {\n",
       "        vertical-align: middle;\n",
       "    }\n",
       "\n",
       "    .dataframe tbody tr th {\n",
       "        vertical-align: top;\n",
       "    }\n",
       "\n",
       "    .dataframe thead th {\n",
       "        text-align: right;\n",
       "    }\n",
       "</style>\n",
       "<table border=\"1\" class=\"dataframe\">\n",
       "  <thead>\n",
       "    <tr style=\"text-align: right;\">\n",
       "      <th></th>\n",
       "      <th>label</th>\n",
       "      <th>text</th>\n",
       "    </tr>\n",
       "  </thead>\n",
       "  <tbody>\n",
       "    <tr>\n",
       "      <th>0</th>\n",
       "      <td>0</td>\n",
       "      <td>Go until jurong point, crazy.. Available only ...</td>\n",
       "    </tr>\n",
       "    <tr>\n",
       "      <th>1</th>\n",
       "      <td>0</td>\n",
       "      <td>Ok lar... Joking wif u oni...</td>\n",
       "    </tr>\n",
       "    <tr>\n",
       "      <th>2</th>\n",
       "      <td>1</td>\n",
       "      <td>Free entry in 2 a wkly comp to win FA Cup fina...</td>\n",
       "    </tr>\n",
       "    <tr>\n",
       "      <th>3</th>\n",
       "      <td>0</td>\n",
       "      <td>U dun say so early hor... U c already then say...</td>\n",
       "    </tr>\n",
       "    <tr>\n",
       "      <th>4</th>\n",
       "      <td>0</td>\n",
       "      <td>Nah I don't think he goes to usf, he lives aro...</td>\n",
       "    </tr>\n",
       "  </tbody>\n",
       "</table>\n",
       "</div>"
      ],
      "text/plain": [
       "   label                                               text\n",
       "0      0  Go until jurong point, crazy.. Available only ...\n",
       "1      0                      Ok lar... Joking wif u oni...\n",
       "2      1  Free entry in 2 a wkly comp to win FA Cup fina...\n",
       "3      0  U dun say so early hor... U c already then say...\n",
       "4      0  Nah I don't think he goes to usf, he lives aro..."
      ]
     },
     "execution_count": 4,
     "metadata": {},
     "output_type": "execute_result"
    }
   ],
   "source": [
    "# Rename the first two columns\n",
    "sms_data.rename(columns={'v1': 'label', 'v2': 'text'}, inplace=True)\n",
    "\n",
    "# Convert categorical data into numerical values using LabelEncoder\n",
    "le = LabelEncoder()\n",
    "sms_data['label'] = le.fit_transform(sms_data['label'])\n",
    "\n",
    "sms_data.head()"
   ]
  },
  {
   "cell_type": "markdown",
   "id": "b3529ba0-7898-4b9b-b359-0516e6f09548",
   "metadata": {},
   "source": [
    "Next, I have defined a funtion to tokenize each text:\n",
    "- used regex to filter out non-alpha characters and white space\n",
    "- used  \"stopwords\" and \"word_tokenize\" from the nltk library to filter out stopwords and tokenize the texts"
   ]
  },
  {
   "cell_type": "code",
   "execution_count": 5,
   "id": "e8a28e12-b006-4cb4-8b51-3f482296a3c0",
   "metadata": {
    "tags": []
   },
   "outputs": [],
   "source": [
    "def tokenize(sentences):\n",
    "    prep = (re.sub(\"[^a-zA-Z\\s]\", \"\", sentences)).lower()\n",
    "    prepped = word_tokenize(prep)\n",
    "    filtered_sentence = [word for word in prepped if word not in stop_words]\n",
    "    return filtered_sentence\n",
    "stop_words = stopwords.words(\"english\")"
   ]
  },
  {
   "cell_type": "markdown",
   "id": "8cccbe29-3c53-41e2-9962-638d5b36576c",
   "metadata": {},
   "source": [
    "Below, I have built a corpus for the text messages:\n",
    "- tokenized each text\n",
    "-  converted the list of tokens into a list of comma-separated strings"
   ]
  },
  {
   "cell_type": "code",
   "execution_count": 6,
   "id": "8bc213fd-5bfa-4c4e-a527-ff15d0939ccc",
   "metadata": {
    "tags": []
   },
   "outputs": [],
   "source": [
    "corpus = []\n",
    "for i in range(0, len(sms_data)):\n",
    "  review = tokenize(sms_data['text'][i])\n",
    "  review = ' '.join(review)\n",
    "  corpus.append(review)"
   ]
  },
  {
   "cell_type": "markdown",
   "id": "b28805d1-ba8e-4e8f-b698-f7a9d74029cd",
   "metadata": {},
   "source": [
    "I have plotted the distribution of ham and spam messages below, creating a visual representation of the spread"
   ]
  },
  {
   "cell_type": "code",
   "execution_count": 7,
   "id": "34f82114-4ed6-493a-b869-61d05ef1ad93",
   "metadata": {
    "tags": []
   },
   "outputs": [
    {
     "data": {
      "image/png": "[encoded data removed]",
      "text/plain": [
       "<Figure size 640x480 with 1 Axes>"
      ]
     },
     "metadata": {},
     "output_type": "display_data"
    },
    {
     "name": "stdout",
     "output_type": "stream",
     "text": [
      "Number of ham texts: 4825\n",
      "Number of spam text: 747\n",
      "\n"
     ]
    }
   ],
   "source": [
    "# Count the occurrences of each label\n",
    "label_counts = sms_data[\"label\"].value_counts()\n",
    "\n",
    "# Define custom colours for \"Ham\" and \"Spam\"\n",
    "colours = ['green', 'red']\n",
    "\n",
    "# Plot the bar chart with custom colors\n",
    "plt.bar(label_counts.index, label_counts.values, color=colours)\n",
    "\n",
    "# Add labels and title\n",
    "plt.xlabel(\"Label\")\n",
    "plt.ylabel(\"Count\")\n",
    "plt.title(\"Distribution of Ham and Spam Texts\")\n",
    "\n",
    "# Customize x-axis tick labels\n",
    "plt.xticks(label_counts.index, [\"Ham\", \"Spam\"])\n",
    "\n",
    "# Show the plot\n",
    "plt.show()\n",
    "\n",
    "# Numeric representation of total hams (label = 0) and total spams (label = 1)\n",
    "print(f\"Number of ham texts: {label_counts[0]}\\nNumber of spam text: {label_counts[1]}\\n\")"
   ]
  },
  {
   "cell_type": "markdown",
   "id": "99e50c9e-9db5-4f25-9851-177a47b268ad",
   "metadata": {
    "tags": []
   },
   "source": [
    "Here, below, I have gotten counts of the top 10 ham and top 10 spam messages.\n",
    "\n",
    "I have plotted those top frequency words below, side by side, for ease of visual comparison."
   ]
  },
  {
   "cell_type": "code",
   "execution_count": 8,
   "id": "4e0d50cb-a478-438a-b3b9-b96d9f57bd55",
   "metadata": {
    "tags": []
   },
   "outputs": [
    {
     "data": {
      "image/png": "[encoded data removed]",
      "text/plain": [
       "<Figure size 1200x500 with 2 Axes>"
      ]
     },
     "metadata": {},
     "output_type": "display_data"
    }
   ],
   "source": [
    "# Check the top 10 ham words and the top 10 spam words and show in plot\n",
    "spam_messages = sms_data[sms_data[\"label\"] == 1][\"text\"]\n",
    "ham_messages = sms_data[sms_data[\"label\"] == 0][\"text\"]\n",
    "\n",
    "spam_words = []\n",
    "for each_message in spam_messages:\n",
    "    spam_words += tokenize(each_message)\n",
    "    \n",
    "ham_words = []\n",
    "for each_message in ham_messages:\n",
    "    ham_words += tokenize(each_message)\n",
    "    \n",
    "top_10_spams = pd.Series(spam_words).value_counts().head(10)\n",
    "top_10_hams = pd.Series(ham_words).value_counts().head(10)\n",
    "\n",
    "# Create subplots with 1 row and 2 columns\n",
    "fig, axes = plt.subplots(1, 2, figsize=(12, 5))\n",
    "\n",
    "# Plot the top 10 ham words\n",
    "axes[0].bar(top_10_hams.index, top_10_hams.values, color='green')\n",
    "axes[0].set_title(\"Top 10 Ham Words\")\n",
    "axes[0].tick_params(axis='x', rotation=45)\n",
    "\n",
    "# Plot the top 10 spam words\n",
    "axes[1].bar(top_10_spams.index, top_10_spams.values, color='red')\n",
    "axes[1].set_title(\"Top 10 Spam Words\")\n",
    "axes[1].tick_params(axis='x', rotation=45)\n",
    "\n",
    "# Adjust layout to prevent overlapping of titles\n",
    "plt.tight_layout()\n",
    "\n",
    "# Show the plots\n",
    "plt.show()"
   ]
  },
  {
   "cell_type": "markdown",
   "id": "c5c0b7cd-439c-48e7-be44-310f9e810dd5",
   "metadata": {},
   "source": [
    "I have:\n",
    "- implemented a Bag-of-Words approach\n",
    "- used a CountVectorizer with a reduced column amount of 6000\n",
    "- Split the dataset into train and test sets in an "
   ]
  },
  {
   "cell_type": "code",
   "execution_count": 9,
   "id": "709ac938-8642-4584-a7a6-277585375f8f",
   "metadata": {
    "tags": []
   },
   "outputs": [
    {
     "name": "stdout",
     "output_type": "stream",
     "text": [
      "(5572, 6000)\n"
     ]
    }
   ],
   "source": [
    "# Used Bag-of-Words approach, reduced the number of features to 6000\n",
    "cv = CountVectorizer(max_features = 6000)\n",
    "X = cv.fit_transform(corpus).toarray()\n",
    "print(X.shape)\n",
    "y = sms_data['label']\n",
    "X_train, X_test, y_train, y_test = train_test_split(X, y, test_size=0.2, random_state=42)"
   ]
  },
  {
   "cell_type": "markdown",
   "id": "ee1fd5a0-627d-4d1b-bb4b-9a6a7a6ddcae",
   "metadata": {},
   "source": [
    "Finally, in the cell block below, I have:\n",
    "- implemented a Naive Bayes classifier\n",
    "- achieved an accuracy score of 0.972, i.e.: approx. 97%\n",
    "- created a confusion matrix heatmap to pictorially represent the model's predictability (Predicted Labels vs True Labels)"
   ]
  },
  {
   "cell_type": "code",
   "execution_count": 10,
   "id": "f7835444-3e0d-4d79-a8d6-55bbaa4ec337",
   "metadata": {
    "tags": []
   },
   "outputs": [
    {
     "name": "stdout",
     "output_type": "stream",
     "text": [
      "\n",
      "Model accuracy:  97%\n",
      "\n"
     ]
    },
    {
     "data": {
      "image/png": "[encoded data removed]",
      "text/plain": [
       "<Figure size 800x600 with 2 Axes>"
      ]
     },
     "metadata": {},
     "output_type": "display_data"
    }
   ],
   "source": [
    "# Trained model using Naive Bayes classifier\n",
    "spam_detector = MultinomialNB().fit(X_train, y_train)\n",
    "y_pred = spam_detector.predict(X_test)\n",
    "\n",
    "accuracy = accuracy_score(y_test, y_pred)\n",
    "print(f\"\\nModel accuracy: {accuracy: .0%}\\n\")\n",
    "conf_mtrx = confusion_matrix(y_test, y_pred)\n",
    "\n",
    "# Created a heatmap\n",
    "plt.figure(figsize=(8, 6))\n",
    "sns.heatmap(conf_mtrx, annot=True, fmt='d', cmap='Greens', xticklabels=['Ham', 'Spam'], yticklabels=['Ham', 'Spam'])\n",
    "plt.xlabel('Predicted Labels')\n",
    "plt.ylabel('True Labels')\n",
    "plt.title('Confusion Matrix Heatmap')\n",
    "plt.show()"
   ]
  }
 ],
 "metadata": {
  "kernelspec": {
   "display_name": "Python 3 (ipykernel)",
   "language": "python",
   "name": "python3"
  },
  "language_info": {
   "codemirror_mode": {
    "name": "ipython",
    "version": 3
   },
   "file_extension": ".py",
   "mimetype": "text/x-python",
   "name": "python",
   "nbconvert_exporter": "python",
   "pygments_lexer": "ipython3",
   "version": "3.11.3"
  }
 },
 "nbformat": 4,
 "nbformat_minor": 5
}
